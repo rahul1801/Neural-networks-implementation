{
 "cells": [
  {
   "cell_type": "code",
   "execution_count": 1,
   "metadata": {},
   "outputs": [],
   "source": [
    "import numpy as np"
   ]
  },
  {
   "cell_type": "code",
   "execution_count": 113,
   "metadata": {},
   "outputs": [],
   "source": [
    "def sigmoid(x):\n",
    "    return 1.0/(1+np.exp(-x))\n",
    "\n",
    "class NeuralNetwork:\n",
    "    def __init__(self,x,y):\n",
    "        self.x0 = x                                         # 3x4\n",
    "        self.w1 = np.random.rand(4,3)                       # 4x3\n",
    "        self.w2 = np.random.rand(1,4)                       # 1x4\n",
    "        self.target = y                                     # 1x4\n",
    "        self.output = []\n",
    "        self.x1 = None\n",
    "        self.x2 = None\n",
    "        \n",
    "    def calculate(self):\n",
    "        for j in range(2000):\n",
    "            for i in range(4):\n",
    "                a = self.x0[:,i]                                # 3x1\n",
    "                b = self.target[:,i]                            # 1x1\n",
    "                self.feedforward(a)                             \n",
    "                self.backprop(a,b)\n",
    "        for i in range(4):\n",
    "            a = self.x0[:,i]\n",
    "            self.feedforward(a)\n",
    "            self.output.append(self.x2)\n",
    "        \n",
    "    def feedforward(self,v1):\n",
    "        z1 = np.matmul(self.w1,v1)                          # 4x1\n",
    "        self.x1 = sigmoid(z1)                               # 4x1\n",
    "        z2 = np.matmul(self.w2,self.x1)                     # 1x1\n",
    "        self.x2 = sigmoid(z2)                               # 1x1\n",
    "        \n",
    "    def backprop(self,v2,v3):\n",
    "        diff1 = np.multiply(self.x2,(1-self.x2))            # 1x1\n",
    "        delta2 = np.multiply((self.x2 - v3),diff1)          # 1x1  \n",
    "        if len(self.x1.shape)==1:\n",
    "            ew2 = np.matmul(delta2,self.x1.reshape((-1,1)).T)                   # 1x4\n",
    "        else:\n",
    "            ew2 = np.matmul(delta2,self.x1.T)                   # 1x4\n",
    "        diff2 = np.multiply(self.x1,(1-self.x1))            # 4x1\n",
    "        pre = np.matmul(np.transpose(self.w2),delta2)       # 4x1\n",
    "        delta1 = np.multiply(pre,diff2)                     # 4x1\n",
    "        delta1 = delta1.reshape((delta1.shape[0],1))\n",
    "        if len(v2.shape)==1:\n",
    "            ew1 = np.matmul(delta1,v2.reshape((-1,1)).T)    # 4x3\n",
    "        else:\n",
    "            ew1 = np.matmul(delta1,v2.T)                    # 4x3\n",
    "        self.w2 = self.w2 - ew2                             # 1x4\n",
    "        self.w1 = self.w1 - ew1                             # 4x3\n",
    "        \n",
    "        "
   ]
  },
  {
   "cell_type": "code",
   "execution_count": 124,
   "metadata": {},
   "outputs": [],
   "source": [
    "nn = NeuralNetwork(np.array([[0,0,1,1],[0,1,0,1],[1,1,1,1]]),np.array([[0,1,1,0]]))"
   ]
  },
  {
   "cell_type": "code",
   "execution_count": 125,
   "metadata": {},
   "outputs": [],
   "source": [
    "nn.calculate()"
   ]
  },
  {
   "cell_type": "code",
   "execution_count": 126,
   "metadata": {},
   "outputs": [
    {
     "name": "stdout",
     "output_type": "stream",
     "text": [
      "(3, 4)\n",
      "(4, 3)\n",
      "(3, 4)\n",
      "(12, 1)\n"
     ]
    }
   ],
   "source": [
    "tp = np.array([[0,0,0,0],[0,0,1,0],[0,1,0,0]])\n",
    "print(tp.shape)\n",
    "tp = tp.T\n",
    "print(tp.shape)\n",
    "tp = tp.T\n",
    "print(tp.shape)\n",
    "tp = tp.reshape((-1,1))\n",
    "print(tp.shape)"
   ]
  },
  {
   "cell_type": "code",
   "execution_count": 127,
   "metadata": {},
   "outputs": [
    {
     "name": "stdout",
     "output_type": "stream",
     "text": [
      "[array([0.0268967]), array([0.98228293]), array([0.96392741]), array([0.03140331])]\n"
     ]
    }
   ],
   "source": [
    "print(nn.output)"
   ]
  },
  {
   "cell_type": "code",
   "execution_count": null,
   "metadata": {},
   "outputs": [],
   "source": []
  }
 ],
 "metadata": {
  "kernelspec": {
   "display_name": "Python 3",
   "language": "python",
   "name": "python3"
  },
  "language_info": {
   "codemirror_mode": {
    "name": "ipython",
    "version": 3
   },
   "file_extension": ".py",
   "mimetype": "text/x-python",
   "name": "python",
   "nbconvert_exporter": "python",
   "pygments_lexer": "ipython3",
   "version": "3.6.5"
  }
 },
 "nbformat": 4,
 "nbformat_minor": 2
}
